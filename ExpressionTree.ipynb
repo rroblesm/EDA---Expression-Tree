{
 "cells": [
  {
   "cell_type": "markdown",
   "id": "db306371",
   "metadata": {},
   "source": [
    "# 1. Elaboracion de la Clase Pila"
   ]
  },
  {
   "cell_type": "code",
   "execution_count": 1,
   "id": "700605cd",
   "metadata": {},
   "outputs": [],
   "source": [
    "class Pila: #Considerando que la lista de python tiene funciones de pila, solo  es restringir esas funciones\n",
    "    def __init__(self):\n",
    "        self.lista = []\n",
    "    \n",
    "    def __str__(self):\n",
    "        miCadena = \"\"\n",
    "        for x in self.lista:\n",
    "            miCadena += str(x)\n",
    "            miCadena += \" \\n\"\n",
    "        return miCadena\n",
    "        \n",
    "    def __repr__(self):\n",
    "        for x in self.lista:\n",
    "            print(x)\n",
    "            \n",
    "    def isEmpty(self):\n",
    "        return (not self.lista) or (len(self.lista)==0) \n",
    "        \n",
    "    def push(self, data):\n",
    "        self.lista.append(data)\n",
    "        \n",
    "    def pop(self):\n",
    "        if (self.isEmpty()==False):\n",
    "            return self.lista.pop(-1)\n",
    "        \n",
    "    def peek(self):\n",
    "        if (self.isEmpty()==False):\n",
    "            return self.lista[-1]\n",
    "        \n",
    "    def size(self):\n",
    "        return len(self.lista)\n",
    "    \n",
    "    \n",
    "    \n",
    "    def imprime(self):\n",
    "        for x in self.lista:\n",
    "            print(x)"
   ]
  },
  {
   "cell_type": "markdown",
   "id": "c67dcef2",
   "metadata": {},
   "source": [
    "# 2. Clase Tokenizadora"
   ]
  },
  {
   "cell_type": "code",
   "execution_count": 2,
   "id": "e0f287d1",
   "metadata": {},
   "outputs": [],
   "source": [
    "class Tokenizador:\n",
    "    def __init__(self, cadena):\n",
    "        self.cadena = cadena    \n",
    "    \n",
    "    #Función que verificar si un string es un operador\n",
    "    def is_operator(self, m):\n",
    "        if m==\"+\" or m==\"-\"  or m==\"*\" or m==\"/\":\n",
    "            resp = True\n",
    "        else:\n",
    "            resp = False\n",
    "        return resp\n",
    "    #Función que verificar si un string es un operador o un parentesis\n",
    "    def is_operator_or_parentheses(self, m):\n",
    "        if self.is_operator(m) or m==\"(\" or m==\")\":\n",
    "            resp = True\n",
    "        else:\n",
    "            resp = False\n",
    "        return resp\n",
    "    #Función que separa un string en una lista de tokens individibles: numeros, operadores & paréntesis.\n",
    "    def tokenizar(self, cadena):\n",
    "        cadena = cadena.replace(\" \",\"\")\n",
    "        tokens=[]\n",
    "        i=0\n",
    "        n = len(cadena)      \n",
    "        while i < n:\n",
    "            #Si es un operador o un paréntisis, separa el string de len 1\n",
    "            if self.is_operator_or_parentheses(cadena[i:i+1]):\n",
    "                tokens.append(cadena[i:i+1])\n",
    "                i+=1\n",
    "            else:\n",
    "                #Si el string es un numero, identifica que substring contiene el número y lo separa\n",
    "                f=i\n",
    "                while f<n and not self.is_operator_or_parentheses(cadena[f:f+1]):\n",
    "                    f+=1\n",
    "                tokens.append(cadena[i:f])\n",
    "                i=f\n",
    "        return tokens\n",
    "\n",
    "    #Función que verifica si un lista de tokens tiene validad sintáctica.\n",
    "    def is_valid(self, expresion):\n",
    "        #Variable que guarda el número de paréntisis abiertos\n",
    "        parentesisAbiertos = 0\n",
    "        #Variable que funcionará como iterador sobre la cadena\n",
    "        i=0\n",
    "        #Vriable que guarda la longitud de la lista de tokens\n",
    "        n=len(expresion)\n",
    "        #Si la expresion es vacía, se tomará como inválida\n",
    "        if len(expresion)==0:\n",
    "            valid =False\n",
    "        #si el primer elemento es un operador la expresion no es valida\n",
    "        else:\n",
    "            valid =  not self.is_operator(expresion[0])\n",
    "        \n",
    "        while valid and i<n:\n",
    "            m=expresion[i]\n",
    "            if m==\"(\":\n",
    "                #Guarda el parantesis \n",
    "                parentesisAbiertos+=1\n",
    "                if i+1<n:\n",
    "                    # El siguiente de un parentesis abierto solo puede ser un numero o un parentesis abierto\n",
    "                    valid = (not self.is_operator_or_parentheses(expresion[i+1])) or expresion[i+1]==\"(\"\n",
    "                else:\n",
    "                    valid = False\n",
    "            elif m==\")\":\n",
    "                if parentesisAbiertos==0:\n",
    "                    valid = False\n",
    "                else:\n",
    "                    parentesisAbiertos-=1\n",
    "                    if i+1<n:\n",
    "                    # El siguiente de un parentesis cerrado solo puede ser un operador\n",
    "                        valid = self.is_operator(expresion[i+1])\n",
    "            elif self.is_operator(m):\n",
    "                if i+1<n:\n",
    "                    # El siguiente de un operador solo puede ser un numero o un parentesis abierto\n",
    "                    valid = (not self.is_operator(expresion[i+1])) or expresion[i+1]==\"(\"\n",
    "                else:\n",
    "                    #si hay un operador al final la expresion esta mal\n",
    "                    valid = False\n",
    "            else:\n",
    "                if i+1<n:\n",
    "                    # El siguiente de un número solo puede ser un operador o un parentesis cerrado\n",
    "                    valid = self.is_operator(expresion[i+1]) or expresion[i+1]==\")\"\n",
    "            i+=1\n",
    "        # Si el while termino de evaluar la lista completa, checa que todos los paréntisis esten cerrados\n",
    "        if valid:\n",
    "            valid = parentesisAbiertos==0\n",
    "        return valid\n"
   ]
  },
  {
   "cell_type": "code",
   "execution_count": 3,
   "id": "30a3e0c9",
   "metadata": {},
   "outputs": [],
   "source": [
    "cadenaInvalida=\"*4+3+n4+n1+2\"\n",
    "\n",
    "token = Tokenizador(cadenaInvalida)\n",
    "cadenaValida = \"4*(8+1)\"\n",
    "cadenaDeFloats = \"4.5*2+(1.8/10)\"\n",
    "cadenaDeFloatsConEspacios = \"4.5 * 2 + (1.8/10)\""
   ]
  },
  {
   "cell_type": "code",
   "execution_count": 4,
   "id": "f2e7e483",
   "metadata": {},
   "outputs": [
    {
     "name": "stdout",
     "output_type": "stream",
     "text": [
      "['*', '4', '+', '3', '+', 'n4', '+', 'n1', '+', '2']\n",
      "False\n",
      "True\n"
     ]
    }
   ],
   "source": [
    "\n",
    "print(token.tokenizar(cadenaInvalida))\n",
    "print(token.is_valid(token.tokenizar(cadenaInvalida)))\n",
    "\n",
    "print(token.is_valid(token.tokenizar(cadenaValida)))"
   ]
  },
  {
   "cell_type": "code",
   "execution_count": 5,
   "id": "6baa1eb7",
   "metadata": {},
   "outputs": [
    {
     "name": "stdout",
     "output_type": "stream",
     "text": [
      "['4.5', '*', '2', '+', '(', '1.8', '/', '10', ')']\n",
      "True\n"
     ]
    }
   ],
   "source": [
    "print(token.tokenizar(cadenaDeFloats))\n",
    "print(token.is_valid(token.tokenizar(cadenaDeFloats)))"
   ]
  },
  {
   "cell_type": "code",
   "execution_count": 6,
   "id": "30932759",
   "metadata": {},
   "outputs": [
    {
     "name": "stdout",
     "output_type": "stream",
     "text": [
      "['4.5', '*', '2', '+', '(', '1.8', '/', '10', ')']\n",
      "True\n"
     ]
    }
   ],
   "source": [
    "print(token.tokenizar(cadenaDeFloatsConEspacios))\n",
    "print(token.is_valid(token.tokenizar(cadenaDeFloatsConEspacios)))"
   ]
  },
  {
   "cell_type": "markdown",
   "id": "1d0e2e00",
   "metadata": {},
   "source": [
    "# 3. Arbol de Expresiones"
   ]
  },
  {
   "cell_type": "code",
   "execution_count": 7,
   "id": "288f3448",
   "metadata": {},
   "outputs": [],
   "source": [
    "class nodo:\n",
    "    def __init__(self, data):\n",
    "        self.dato = data\n",
    "        self.izquierdo = None\n",
    "        self.derecho = None\n",
    "\n",
    "    def __str__(self):\n",
    "        return self.dato\n",
    "        \n",
    "    def __repr__(self):\n",
    "        print(dato)"
   ]
  },
  {
   "cell_type": "code",
   "execution_count": 24,
   "id": "bc7a052d",
   "metadata": {},
   "outputs": [],
   "source": [
    "class arbolDeExpresiones:\n",
    "    def __init__(self, listaDeTokens):\n",
    "        self.listaDeTokens = listaDeTokens\n",
    "        self.PilaA = Pila()\n",
    "        self.PilaB = Pila()\n",
    "       \n",
    "    def construccionDeArbol(self):\n",
    "        for x in self.listaDeTokens:\n",
    "            if (x.isdecimal() or x.__contains__(\".\") or x.__contains__(\"n\")):##puedo hacer algo asi de burdo porque ya cheque el la clase Tokenizadora la validez de la expresion                \n",
    "                nuevoArbol = nodo(x)\n",
    "                self.PilaB.push(nuevoArbol)\n",
    "            \n",
    "            if x == \"(\":\n",
    "                self.PilaA.push(x)\n",
    "            \n",
    "            if x == \")\":\n",
    "                tokenEliminado = self.PilaA.pop()\n",
    "                while (tokenEliminado != \"(\"):\n",
    "                    P = self.PilaB.pop()\n",
    "                    S = self.PilaB.pop()\n",
    "                    \n",
    "                    nuevoArbolDeExpresion = nodo(tokenEliminado)\n",
    "                    nuevoArbolDeExpresion.derecho = P\n",
    "                    nuevoArbolDeExpresion.izquierdo = S\n",
    "                    \n",
    "                    self.PilaB.push(nuevoArbolDeExpresion)\n",
    "                    \n",
    "                    tokenEliminado = self.PilaA.pop()\n",
    "                \n",
    "            if x==\"+\" or x==\"-\"  or x==\"*\" or x==\"/\":\n",
    "                interruptor_de_prioridad = False\n",
    "                prioridad = False\n",
    "                tope_de_pila = self.PilaA.peek()\n",
    "                if (x == \"*\" or x == \"/\"):\n",
    "                    prioridad = True\n",
    "                    if(tope_de_pila == \"+\" or tope_de_pila == \"-\"):\n",
    "                        interruptor_de_prioridad = True\n",
    "\n",
    "                    \n",
    "                while (self.PilaA.peek() != \"(\" ) and (not self.PilaA.isEmpty()) and (interruptor_de_prioridad == False):\n",
    "                    #usando PilaA.peek y no tope_de_pila me aseguro que no creare un arbol de expresiones con raiz \"(\"\n",
    "                    tope_de_pila = self.PilaA.pop()\n",
    "                    P = self.PilaB.pop()\n",
    "                    S = self.PilaB.pop()\n",
    "                    \n",
    "                    nuevoArbolDeExpresion = nodo(tope_de_pila)\n",
    "                    nuevoArbolDeExpresion.derecho = P\n",
    "                    nuevoArbolDeExpresion.izquierdo = S\n",
    "                    \n",
    "                    self.PilaB.push(nuevoArbolDeExpresion)\n",
    "                    \n",
    "                    if prioridad == True:\n",
    "                        if(tope_de_pila == \"+\" or tope_de_pila == \"-\"):\n",
    "                            interruptor_de_prioridad = True\n",
    "                            \n",
    "                self.PilaA.push(x)\n",
    "        \n",
    "        while (not self.PilaA.isEmpty()):\n",
    "            operador = self.PilaA.pop()\n",
    "            P = self.PilaB.pop()\n",
    "            S = self.PilaB.pop()\n",
    "            print(P)\n",
    "            print(S)\n",
    "            nuevoArbolDeExpresiones = nodo(operador)\n",
    "            nuevoArbolDeExpresion.derecho = P\n",
    "            nuevoArbolDeExpresion.izquierdo = S\n",
    "            self.PilaB.push(nuevoArbolDeExpresion)\n",
    "                    \n",
    "        \n",
    "    def impresion_inorder(self):\n",
    "        print(self.PilaB.lista[0])\n",
    "        arbolito = self.PilaB.lista[0]    \n",
    "            \n",
    "    def inorder(self,nodo):\n",
    "        if nodo.izquierdo is not None:\n",
    "            self.inorder(nodo.izquierdo)\n",
    "        print(nodo.dato, end=\" \")\n",
    "        if nodo.derecho is not None:\n",
    "            self.inorder(nodo.derecho)\n",
    "        "
   ]
  },
  {
   "cell_type": "code",
   "execution_count": 25,
   "id": "36d25d3f",
   "metadata": {},
   "outputs": [
    {
     "name": "stdout",
     "output_type": "stream",
     "text": [
      "['4', '*', '(', '8', '+', '1', ')']\n",
      "+\n",
      "4\n"
     ]
    }
   ],
   "source": [
    "cadenaValida = token.tokenizar(\"4*(8+1)\")\n",
    "\n",
    "print(cadenaValida)\n",
    "miArbol = arbolDeExpresiones(cadenaValida)\n",
    "miArbol.construccionDeArbol()"
   ]
  },
  {
   "cell_type": "code",
   "execution_count": 26,
   "id": "b9d75d21",
   "metadata": {},
   "outputs": [
    {
     "name": "stdout",
     "output_type": "stream",
     "text": [
      "+\n"
     ]
    }
   ],
   "source": [
    "miArbol.impresion_inorder()"
   ]
  },
  {
   "cell_type": "code",
   "execution_count": null,
   "id": "74ea7bcc",
   "metadata": {},
   "outputs": [],
   "source": []
  },
  {
   "cell_type": "code",
   "execution_count": null,
   "id": "c5dc3547",
   "metadata": {},
   "outputs": [],
   "source": []
  }
 ],
 "metadata": {
  "kernelspec": {
   "display_name": "Python 3",
   "language": "python",
   "name": "python3"
  },
  "language_info": {
   "codemirror_mode": {
    "name": "ipython",
    "version": 3
   },
   "file_extension": ".py",
   "mimetype": "text/x-python",
   "name": "python",
   "nbconvert_exporter": "python",
   "pygments_lexer": "ipython3",
   "version": "3.8.8"
  }
 },
 "nbformat": 4,
 "nbformat_minor": 5
}
