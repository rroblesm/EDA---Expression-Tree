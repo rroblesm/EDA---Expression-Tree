{
 "cells": [
  {
   "cell_type": "markdown",
   "id": "16bf9338",
   "metadata": {},
   "source": [
    "# 1. Elaboracion de clase Pila"
   ]
  },
  {
   "cell_type": "code",
   "execution_count": null,
   "id": "42a40ae3",
   "metadata": {},
   "outputs": [],
   "source": [
    "class Pila:\n",
    "    def __init__(self):\n",
    "        self.lista = []\n",
    "    \n",
    "    def isEmpty(self):\n",
    "        return (not self.lista) or (len(self.lista)==0) \n",
    "        \n",
    "    def push(self, data):\n",
    "        self.lista.append(data)\n",
    "        \n",
    "    def pop(self):\n",
    "        if (isEmpty()==False):\n",
    "            return self.lista.pop(-1)\n",
    "        \n",
    "    def peek(self):\n",
    "        if (isEmpty()==False):\n",
    "            return self.lista[-1]\n",
    "        \n",
    "    def size(self):\n",
    "        return len(self.lista)\n",
    "    \n",
    "    def imprime(self):\n",
    "        for x in self.lista:\n",
    "            print(x)"
   ]
  },
  {
   "cell_type": "code",
   "execution_count": 3,
   "id": "69858c2c",
   "metadata": {},
   "outputs": [],
   "source": [
    "pila = Pila()"
   ]
  },
  {
   "cell_type": "code",
   "execution_count": 4,
   "id": "afffe68f",
   "metadata": {},
   "outputs": [
    {
     "data": {
      "text/plain": [
       "True"
      ]
     },
     "execution_count": 4,
     "metadata": {},
     "output_type": "execute_result"
    }
   ],
   "source": [
    "pila.isEmpty()"
   ]
  },
  {
   "cell_type": "code",
   "execution_count": 19,
   "id": "4e02c96f",
   "metadata": {},
   "outputs": [],
   "source": [
    "pila.push(9)\n",
    "pila.push(10)\n",
    "pila.push(1)"
   ]
  },
  {
   "cell_type": "code",
   "execution_count": 20,
   "id": "c3965485",
   "metadata": {},
   "outputs": [
    {
     "name": "stdout",
     "output_type": "stream",
     "text": [
      "9\n",
      "10\n",
      "1\n"
     ]
    }
   ],
   "source": [
    "pila.imprime()"
   ]
  },
  {
   "cell_type": "code",
   "execution_count": 24,
   "id": "667e5772",
   "metadata": {},
   "outputs": [
    {
     "data": {
      "text/plain": [
       "9"
      ]
     },
     "execution_count": 24,
     "metadata": {},
     "output_type": "execute_result"
    }
   ],
   "source": [
    "pila.pop()\n",
    "pila.pop()\n",
    "pila.pop()"
   ]
  },
  {
   "cell_type": "code",
   "execution_count": 25,
   "id": "07d9e344",
   "metadata": {},
   "outputs": [
    {
     "data": {
      "text/plain": [
       "True"
      ]
     },
     "execution_count": 25,
     "metadata": {},
     "output_type": "execute_result"
    }
   ],
   "source": [
    "pila.isEmpty()"
   ]
  },
  {
   "cell_type": "code",
   "execution_count": null,
   "id": "d46f6049",
   "metadata": {},
   "outputs": [],
   "source": [
    "60 + 80 * (40 + 8)\n",
    "\n",
    "[\"60\" \"+\" \"80\" \"*\" \"(\" \"40\" \"+\" \"8\" \")\"]"
   ]
  },
  {
   "cell_type": "markdown",
   "id": "a8a889bc",
   "metadata": {},
   "source": [
    "# 2. Nodo y Arbol"
   ]
  },
  {
   "cell_type": "code",
   "execution_count": 5,
   "id": "a14ceeb2",
   "metadata": {},
   "outputs": [],
   "source": [
    "class node:\n",
    "    def __init__(self, data):\n",
    "        self.dato = dato\n",
    "        self.izquierdo = None\n",
    "        self.derecho = None"
   ]
  },
  {
   "cell_type": "code",
   "execution_count": null,
   "id": "ae84cea2",
   "metadata": {},
   "outputs": [],
   "source": [
    "class arbol_de_expresiones:\n",
    "    def __init__(self, operador):\n",
    "        node(operador)\n",
    "        \n",
    "        \n",
    "class algo_profe:\n",
    "    def algoritmoDeProfe(self, exp_token):\n",
    "        pilaA = Pila()\n",
    "        pilaB = Pila()\n",
    "        \n",
    "        if()\n",
    "        \n",
    "    def crearArbol(self, exp):\n",
    "        root = exp\n",
    "        \n",
    "        \n",
    "\n",
    "\n",
    "# Si es un operando se crea un nuevo árbol de expresión (colocando el operando en el nodo raíz—el único nodo—de dicho árbol) \n",
    "# y se agrega el árbol a la Pila B\n"
   ]
  }
 ],
 "metadata": {
  "kernelspec": {
   "display_name": "Python 3",
   "language": "python",
   "name": "python3"
  },
  "language_info": {
   "codemirror_mode": {
    "name": "ipython",
    "version": 3
   },
   "file_extension": ".py",
   "mimetype": "text/x-python",
   "name": "python",
   "nbconvert_exporter": "python",
   "pygments_lexer": "ipython3",
   "version": "3.8.8"
  }
 },
 "nbformat": 4,
 "nbformat_minor": 5
}
